{
 "cells": [
  {
   "cell_type": "markdown",
   "metadata": {
    "collapsed": true
   },
   "source": [
    "<img src=\"http://oci02.img.iteso.mx/identidad_de_instancia_2018/ITESO/Logos%20ITESO/Logo-ITESO-Principal.jpg\">"
   ]
  },
  {
   "cell_type": "markdown",
   "metadata": {},
   "source": [
    "<center><font color=#555555><font size=6> Ingeniería Financiera </font> <br> <br>\n",
    "\n",
    "<center><font color=#555555><font size=5> ITE1731 - Microestructura y Sistemas de Trading </font> <br> <br> <br>\n",
    "\n",
    "<center><font color=#555555><font size=5> I.F. Nombre Nombre Apellido Apellido </font> <br> <br>\n",
    "   \n",
    "<center> <font color= #555555> <font size = 4> Septiembre 2020 </a> | <font color= #555555> <font size = 4> Repositorio: <a href='https://github.com/'>Link</a></font>"
   ]
  },
  {
   "cell_type": "markdown",
   "metadata": {},
   "source": [
    "<br>"
   ]
  },
  {
   "cell_type": "markdown",
   "metadata": {},
   "source": [
    "---"
   ]
  },
  {
   "cell_type": "markdown",
   "metadata": {},
   "source": [
    "<br>"
   ]
  },
  {
   "cell_type": "markdown",
   "metadata": {},
   "source": [
    "<br>"
   ]
  },
  {
   "cell_type": "markdown",
   "metadata": {},
   "source": [
    "<center> <font color= #555555> <font size = 7> Laboratorio 1 </font> <br> <br> <font color= #555555> <font size = 5> Inversión del Capital </font>"
   ]
  },
  {
   "cell_type": "markdown",
   "metadata": {},
   "source": [
    "# <font color= #555555> <font size = 5> Abstract </font>"
   ]
  },
  {
   "cell_type": "markdown",
   "metadata": {},
   "source": [
    "<font color= #6B6B6B> <font size = 2> Este documento fue elaborado por tu **nombre completo**, como un trabajo parcial para la materia de **Microestructura y Sistemas de Trading - ITE1731**, la cual es parte del curriculum de la licenciatura en Ingeniería Financiera, ofertada por la universidad **ITESO**. En el presente trabajo se plantea la respuesta a la siguiente pregutna: *¿Qué estrategia de inversión propondrías si tu trabajo fuera administrar 1 Millón de pesos?*</font>"
   ]
  },
  {
   "cell_type": "markdown",
   "metadata": {},
   "source": [
    "<br>"
   ]
  },
  {
   "cell_type": "markdown",
   "metadata": {},
   "source": [
    "# <font color= #6B6B6B> <font size = 6> 0. Librerías y Dependencias </font>"
   ]
  },
  {
   "cell_type": "markdown",
   "metadata": {},
   "source": [
    "<hr style=\"border:0.02in solid gray\"> </hr>"
   ]
  },
  {
   "cell_type": "markdown",
   "metadata": {},
   "source": [
    "# <font color= #6B6B6B> <font size = 5> 0.1 Librerías </font> <font color= #555555>"
   ]
  },
  {
   "cell_type": "markdown",
   "metadata": {},
   "source": [
    "Para correr este notebook es necesario tener instaladas y/o en el archivo _requirements.txt_ las siguientes librerías :"
   ]
  },
  {
   "cell_type": "markdown",
   "metadata": {},
   "source": [
    "- pandas>=1.1.1 \n",
    "- numpy>=1.19.1\n",
    "- jupyter>=1.0.0\n",
    "- yfinance>=0.1.54"
   ]
  },
  {
   "cell_type": "markdown",
   "metadata": {},
   "source": [
    "# <font color= #6B6B6B> <font size = 5> 0.2 Dependencias </font> <font color= #555555>"
   ]
  },
  {
   "cell_type": "markdown",
   "metadata": {},
   "source": [
    "Para correr este notebook es necesario contar con los siguientes archivos y dependencias externas:"
   ]
  },
  {
   "cell_type": "markdown",
   "metadata": {},
   "source": [
    "- files/precios.csv : Precios históricos\n",
    "- files/datos.txt : Otros datos históricos"
   ]
  },
  {
   "cell_type": "markdown",
   "metadata": {},
   "source": [
    "<br>"
   ]
  },
  {
   "cell_type": "markdown",
   "metadata": {},
   "source": [
    "# <font color= #6B6B6B> <font size = 6> 1. Introducción </font>"
   ]
  },
  {
   "cell_type": "markdown",
   "metadata": {},
   "source": [
    "<hr style=\"border:0.02in solid gray\"> </hr>"
   ]
  },
  {
   "cell_type": "markdown",
   "metadata": {},
   "source": []
  },
  {
   "cell_type": "markdown",
   "metadata": {},
   "source": [
    "<br>"
   ]
  },
  {
   "cell_type": "markdown",
   "metadata": {},
   "source": [
    "# <font color= #6B6B6B> <font size = 6> 2. Objetivos </font>"
   ]
  },
  {
   "cell_type": "markdown",
   "metadata": {},
   "source": [
    "<hr style=\"border:0.02in solid gray\"> </hr>"
   ]
  },
  {
   "cell_type": "markdown",
   "metadata": {},
   "source": []
  },
  {
   "cell_type": "markdown",
   "metadata": {},
   "source": [
    "<br>"
   ]
  },
  {
   "cell_type": "markdown",
   "metadata": {},
   "source": [
    "# <font color= #6B6B6B> <font size = 6> 3. Datos </font>"
   ]
  },
  {
   "cell_type": "markdown",
   "metadata": {},
   "source": [
    "<hr style=\"border:0.02in solid gray\"> </hr>"
   ]
  },
  {
   "cell_type": "markdown",
   "metadata": {},
   "source": []
  },
  {
   "cell_type": "code",
   "execution_count": 1,
   "metadata": {},
   "outputs": [],
   "source": [
    "# En esta sección es opcional incluir código para mostrar/visualizar\n",
    "# los datos con los que se trabajó en el laboratorio"
   ]
  },
  {
   "cell_type": "code",
   "execution_count": 5,
   "metadata": {},
   "outputs": [],
   "source": [
    "import functions as fn"
   ]
  },
  {
   "cell_type": "code",
   "execution_count": 2,
   "metadata": {},
   "outputs": [],
   "source": [
    "import time as time\n",
    "import numpy as np\n",
    "import pandas as pd\n",
    "import yfinance as yf\n",
    "from os import listdir, path\n",
    "from os.path import isfile, join\n",
    "\n",
    "pd.set_option('display.max_rows', None)\n",
    "pd.set_option('display.max_columns', None)\n",
    "pd.set_option('display.width',None)\n",
    "pd.set_option('display.expand_frame_repr',False)\n",
    "\n",
    "# Lista con los nombres de los archivos csv a leer\n",
    "abspath= path.abspath('c:/Users/luzitaifi/Documents/Micro_Estructuras_Trading/Lab_1/myst_if708591_lab1/NAFTRAC_holdings')\n",
    "arc= [f[8:-4] for f in listdir(abspath) if isfile(join(abspath, f))]\n",
    "arc= ['NAFTRAC_' + i.strftime('%d%m%y') for i in sorted(pd.to_datetime(arc))]\n",
    "# Crear un diccionario para almacenar todos los datos\n",
    "dato_arc= {}\n",
    "for i in arc:\n",
    "    i = arc[0]\n",
    "    # leer los archivos despues de los primeros renglones\n",
    "    dato= pd.read_csv('c:/Users/luzitaifi/Documents/Micro_Estructuras_Trading/Lab_1/myst_if708591_lab1/NAFTRAC_holdings/' + arc[0] + '.csv',skiprows=2,header=None)\n",
    "    # Renombrar las columnas\n",
    "    dato.columns = list(dato.iloc[0, :])\n",
    "    dato = dato.iloc[:, pd.notnull(dato.columns)]\n",
    "    dato.iloc[1:-1].reset_index(drop=True, inplace=False)\n",
    "    # Alimine la columan 1 y 37 por el error que me sale del nombre de las columnas\n",
    "    dato = dato.drop([0, 37])\n",
    "    # Limpieza de datos\n",
    "    # Eliminar comas en columna de precio\n",
    "    dato['Precio'] = [i.replace(',', '') for i in dato['Precio']]\n",
    "    # Eliminar * de columna tickers\n",
    "    dato['Ticker'] = [i.replace('*', '') for i in dato['Ticker']]\n",
    "    # Conversion de type str a float\n",
    "    conv = {'Ticker': str, 'Nombre': str, 'Peso (%)': float}\n",
    "    dato = dato.astype(conv)\n",
    "    # Conversion a decimal la culumna 'Peso (%)'\n",
    "    dato['Peso (%)'] = dato['Peso (%)'] / 100\n",
    "\n",
    "    # Guardar cambios en diccionario\n",
    "    dato_arc[i] = dato\n",
    "    # Crear vector de fechas apartir del vector de nombres de archivo\n",
    "    t_f = [i.strftime('%d-%m-%Y') for i in\n",
    "           sorted([pd.to_datetime(i[8:]).date() for i in arc])]\n",
    "    # Lista de fechas ordenadas (para usarse con indexadores de archivos)\n",
    "    i_f = [j.strftime('%Y-%m-%d') for j in sorted([pd.to_datetime(i[8:]).date() for i in arc])]"
   ]
  },
  {
   "cell_type": "code",
   "execution_count": null,
   "metadata": {},
   "outputs": [],
   "source": []
  },
  {
   "cell_type": "markdown",
   "metadata": {},
   "source": [
    "<br>"
   ]
  },
  {
   "cell_type": "markdown",
   "metadata": {},
   "source": [
    "# <font color= #6B6B6B> <font size = 6> 4. Procesos </font>"
   ]
  },
  {
   "cell_type": "markdown",
   "metadata": {},
   "source": [
    "<hr style=\"border:0.02in solid gray\"> </hr>"
   ]
  },
  {
   "cell_type": "markdown",
   "metadata": {},
   "source": []
  },
  {
   "cell_type": "code",
   "execution_count": 2,
   "metadata": {},
   "outputs": [],
   "source": [
    "# aqui se incluye toda la secuencia de main.py.\n",
    "# tomando los pasos en los que fuiste haciendo todos los calculos\n",
    "# y poniendo cada uno como un subtitulo con markdown de nivel dos, así ## subtitulo de mi paso"
   ]
  },
  {
   "cell_type": "markdown",
   "metadata": {},
   "source": [
    "<br>"
   ]
  },
  {
   "cell_type": "markdown",
   "metadata": {},
   "source": [
    "# <font color= #6B6B6B> <font size = 6> 5. Conclusiones </font>"
   ]
  },
  {
   "cell_type": "markdown",
   "metadata": {},
   "source": [
    "<hr style=\"border:0.02in solid gray\"> </hr>"
   ]
  },
  {
   "cell_type": "markdown",
   "metadata": {},
   "source": []
  },
  {
   "cell_type": "code",
   "execution_count": 3,
   "metadata": {},
   "outputs": [],
   "source": [
    "# en esta seccion es opcional incluir algun codigo para mostrar\n",
    "# visualmente algun concepto o hallazgo relevante como conclusion"
   ]
  }
 ],
 "metadata": {
  "kernelspec": {
   "display_name": "Python 3",
   "language": "python",
   "name": "python3"
  },
  "language_info": {
   "codemirror_mode": {
    "name": "ipython",
    "version": 3
   },
   "file_extension": ".py",
   "mimetype": "text/x-python",
   "name": "python",
   "nbconvert_exporter": "python",
   "pygments_lexer": "ipython3",
   "version": "3.7.3"
  }
 },
 "nbformat": 4,
 "nbformat_minor": 1
}
