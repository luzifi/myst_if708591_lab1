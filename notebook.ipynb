{
 "cells": [
  {
   "cell_type": "markdown",
   "metadata": {
    "collapsed": true
   },
   "source": [
    "<img src=\"http://oci02.img.iteso.mx/identidad_de_instancia_2018/ITESO/Logos%20ITESO/Logo-ITESO-Principal.jpg\">"
   ]
  },
  {
   "cell_type": "markdown",
   "metadata": {},
   "source": [
    "<center><font color=#555555><font size=6> Ingeniería Financiera </font> <br> <br>\n",
    "\n",
    "<center><font color=#555555><font size=5> ITE1731 - Microestructura y Sistemas de Trading </font> <br> <br> <br>\n",
    "\n",
    "<center><font color=#555555><font size=5> I.F. Luz Clara Epinosa Collazo </font> <br> <br>\n",
    "   \n",
    "<center> <font color= #555555> <font size = 4> Septiembre 2020 </a> | <font color= #555555> <font size = 4> Repositorio: <a href='https://github.com/'>https://github.com/luzifi/myst_if708591_lab1</a></font>"
   ]
  },
  {
   "cell_type": "markdown",
   "metadata": {},
   "source": [
    "<br>"
   ]
  },
  {
   "cell_type": "markdown",
   "metadata": {},
   "source": [
    "---"
   ]
  },
  {
   "cell_type": "markdown",
   "metadata": {},
   "source": [
    "<br>"
   ]
  },
  {
   "cell_type": "markdown",
   "metadata": {},
   "source": [
    "<br>"
   ]
  },
  {
   "cell_type": "markdown",
   "metadata": {},
   "source": [
    "<center> <font color= #555555> <font size = 7> Laboratorio 1 </font> <br> <br> <font color= #555555> <font size = 5> Inversión del Capital </font>"
   ]
  },
  {
   "cell_type": "markdown",
   "metadata": {},
   "source": [
    "# <font color= #555555> <font size = 5> Abstract </font>"
   ]
  },
  {
   "cell_type": "markdown",
   "metadata": {},
   "source": [
    "<font color= #6B6B6B> <font size = 2> Este documento fue elaborado por tu **Luz Clara Epinosa Collazo**, como un trabajo parcial para la materia de **Microestructura y Sistemas de Trading - ITE1731**, la cual es parte del curriculum de la licenciatura en Ingeniería Financiera, ofertada por la universidad **ITESO**. En el presente trabajo se plantea la respuesta a la siguiente pregutna: *¿Qué estrategia de inversión propondrías si tu trabajo fuera administrar 1 Millón de pesos?*</font>"
   ]
  },
  {
   "cell_type": "markdown",
   "metadata": {},
   "source": [
    "<br>"
   ]
  },
  {
   "cell_type": "markdown",
   "metadata": {},
   "source": [
    "# <font color= #6B6B6B> <font size = 6> 0. Librerías y Dependencias </font>"
   ]
  },
  {
   "cell_type": "markdown",
   "metadata": {},
   "source": [
    "<hr style=\"border:0.02in solid gray\"> </hr>"
   ]
  },
  {
   "cell_type": "markdown",
   "metadata": {},
   "source": [
    "# <font color= #6B6B6B> <font size = 5> 0.1 Librerías </font> <font color= #555555>"
   ]
  },
  {
   "cell_type": "markdown",
   "metadata": {},
   "source": [
    "Para correr este notebook es necesario tener instaladas y/o en el archivo _requirements.txt_ las siguientes librerías :"
   ]
  },
  {
   "cell_type": "markdown",
   "metadata": {},
   "source": [
    "- pandas>=1.1.1 \n",
    "    * Libreria para manipulación y análisis de datos \n",
    "- numpy>=1.19.1\n",
    "    * Libreria de funciones matemáticas para opereciones con vectores y matrices.\n",
    "- jupyter>=1.0.0\n",
    "    * Desallorrador de software abierto.\n",
    "- yfinance>=0.1.54\n",
    "    * Libreria para descargar datos históricos del mercado de Yahoo! Finanzas."
   ]
  },
  {
   "cell_type": "markdown",
   "metadata": {},
   "source": [
    "# <font color= #6B6B6B> <font size = 5> 0.2 Dependencias </font> <font color= #555555>"
   ]
  },
  {
   "cell_type": "markdown",
   "metadata": {},
   "source": [
    "Para correr este notebook es necesario contar con los siguientes archivos y dependencias externas:"
   ]
  },
  {
   "cell_type": "markdown",
   "metadata": {},
   "source": [
    "- 'c:/Users/luzitaifi/Documents/Micro_Estructuras_Trading/Lab_1/myst_if708591_lab1/NAFTRAC_holdings' : Precios históricos\n",
    "- files/datos.txt : Otros datos históricos"
   ]
  },
  {
   "cell_type": "markdown",
   "metadata": {},
   "source": [
    "<br>"
   ]
  },
  {
   "cell_type": "markdown",
   "metadata": {},
   "source": [
    "# <font color= #6B6B6B> <font size = 6> 1. Introducción </font>"
   ]
  },
  {
   "cell_type": "markdown",
   "metadata": {},
   "source": [
    "<hr style=\"border:0.02in solid gray\"> </hr>"
   ]
  },
  {
   "cell_type": "markdown",
   "metadata": {},
   "source": [
    "<font color= 169 > <font size = 3> Últimamente se podido observar una tendencia a preferir inversiones pasivas en las que el capital de un inversor se encuentro posicionado replicando o copiando un índice \n",
    "Últimamente se a presentado una tendencia donde los inversores prefieren posicionar su capital en fondos indexados, donde estos están replicando el comportamiento que tiene un índice bursátil, esta situación a ocasionado el inevitable cuestionamiento sobre si existe algún tipo de ventaja entre una inversión pasiva que se limita a copiar un comportamiento y una gestionada de manera activa en la que se están realizando transacciones de manera continua.\n",
    "    \n",
    "Entre los planteamientos que se presentan para dar respuesta a la pregunta anterior esta el hecho del cobro de comisiones, ya que dependiendo de la economía en la que se esté invirtiendo puede existir mayor o menor porcentaje de cobros al transaccionar, y la inversión pasiva refuta esto al ser una alternativa que protege el capital de perder poder adquisitivo a causa de la inflación sin necesidad de estar gestionando activamente compra y venta de títulos. \n",
    "Diferentes circunstancias económicas han propiciado el crecimiento y de la indexación y también las expectativas de mayor uso a futuro por esto entre las motivaciones principales de este laboratorio está el hacer una comparativa que refleje la evolución de monto de capital en un periodo de tiempo invertido y gestionado por estas dos maneras.\n",
    "</font>"
   ]
  },
  {
   "cell_type": "markdown",
   "metadata": {},
   "source": [
    "<br>"
   ]
  },
  {
   "cell_type": "markdown",
   "metadata": {},
   "source": [
    "# <font color= #6B6B6B> <font size = 6> 2. Objetivos </font>"
   ]
  },
  {
   "cell_type": "markdown",
   "metadata": {},
   "source": [
    "<hr style=\"border:0.02in solid gray\"> </hr>"
   ]
  },
  {
   "cell_type": "markdown",
   "metadata": {},
   "source": [
    "<font color= gray > <font size = 3> Mostrar de manera ecuánime una simulación en la que se invierte un monto de capital en dos alternativas: en títulos de un ETF que copia un índice (S&P/BMV IPC) o estar gestionando este peculio con rebalanceos de manera mensual.\n",
    "    \n",
    "Con la finalidad de hacer una comparativa neutral y realista que responda a cuál estrategia de inversión plantear si se desea administrar un capital de un millón de pesos.\n",
    " </font>"
   ]
  },
  {
   "cell_type": "markdown",
   "metadata": {},
   "source": [
    "<br>"
   ]
  },
  {
   "cell_type": "markdown",
   "metadata": {},
   "source": [
    "# <font color= #6B6B6B> <font size = 6> 3. Datos </font>"
   ]
  },
  {
   "cell_type": "markdown",
   "metadata": {},
   "source": [
    "<hr style=\"border:0.02in solid gray\"> </hr>"
   ]
  },
  {
   "cell_type": "markdown",
   "metadata": {},
   "source": [
    "* Primera base de datos utilizada corresponde a una recopilacion historica del ETF \"NAFTRAC\" referenciando del primer mes del año 2018 a agosto 2020"
   ]
  },
  {
   "cell_type": "code",
   "execution_count": 12,
   "metadata": {},
   "outputs": [],
   "source": [
    "from data import dato_arc"
   ]
  },
  {
   "cell_type": "markdown",
   "metadata": {},
   "source": [
    "* Datos sustraidos desde Yahoo! Finanzas en periodo concordante con la primera base de datos."
   ]
  },
  {
   "cell_type": "code",
   "execution_count": 13,
   "metadata": {},
   "outputs": [
    {
     "data": {
      "text/html": [
       "<div>\n",
       "<style scoped>\n",
       "    .dataframe tbody tr th:only-of-type {\n",
       "        vertical-align: middle;\n",
       "    }\n",
       "\n",
       "    .dataframe tbody tr th {\n",
       "        vertical-align: top;\n",
       "    }\n",
       "\n",
       "    .dataframe thead th {\n",
       "        text-align: right;\n",
       "    }\n",
       "</style>\n",
       "<table border=\"1\" class=\"dataframe\">\n",
       "  <thead>\n",
       "    <tr style=\"text-align: right;\">\n",
       "      <th></th>\n",
       "      <th>AC.MX</th>\n",
       "      <th>ALFAA.MX</th>\n",
       "      <th>ALPEKA.MX</th>\n",
       "      <th>ALSEA.MX</th>\n",
       "      <th>AMXL.MX</th>\n",
       "      <th>ASURB.MX</th>\n",
       "      <th>BIMBOA.MX</th>\n",
       "      <th>CEMEXCPO.MX</th>\n",
       "      <th>CUERVO.MX</th>\n",
       "      <th>ELEKTRA.MX</th>\n",
       "      <th>FEMSAUBD.MX</th>\n",
       "      <th>GAPB.MX</th>\n",
       "      <th>GCARSOA1.MX</th>\n",
       "      <th>GENTERA.MX</th>\n",
       "      <th>GFINBURO.MX</th>\n",
       "      <th>GFNORTEO.MX</th>\n",
       "      <th>GMEXICOB.MX</th>\n",
       "      <th>GRUMAB.MX</th>\n",
       "      <th>IENOVA.MX</th>\n",
       "      <th>KIMBERA.MX</th>\n",
       "      <th>LABB.MX</th>\n",
       "      <th>LALAB.MX</th>\n",
       "      <th>LIVEPOLC-1.MX</th>\n",
       "      <th>MEGACPO.MX</th>\n",
       "      <th>NEMAKA.MX</th>\n",
       "      <th>OMAB.MX</th>\n",
       "      <th>ORBIA.MX</th>\n",
       "      <th>PE&amp;OLES.MX</th>\n",
       "      <th>PINFRA.MX</th>\n",
       "      <th>RA.MX</th>\n",
       "      <th>TLEVISACPO.MX</th>\n",
       "      <th>VOLARA.MX</th>\n",
       "      <th>WALMEX.MX</th>\n",
       "    </tr>\n",
       "    <tr>\n",
       "      <th>Date</th>\n",
       "      <th></th>\n",
       "      <th></th>\n",
       "      <th></th>\n",
       "      <th></th>\n",
       "      <th></th>\n",
       "      <th></th>\n",
       "      <th></th>\n",
       "      <th></th>\n",
       "      <th></th>\n",
       "      <th></th>\n",
       "      <th></th>\n",
       "      <th></th>\n",
       "      <th></th>\n",
       "      <th></th>\n",
       "      <th></th>\n",
       "      <th></th>\n",
       "      <th></th>\n",
       "      <th></th>\n",
       "      <th></th>\n",
       "      <th></th>\n",
       "      <th></th>\n",
       "      <th></th>\n",
       "      <th></th>\n",
       "      <th></th>\n",
       "      <th></th>\n",
       "      <th></th>\n",
       "      <th></th>\n",
       "      <th></th>\n",
       "      <th></th>\n",
       "      <th></th>\n",
       "      <th></th>\n",
       "      <th></th>\n",
       "      <th></th>\n",
       "    </tr>\n",
       "  </thead>\n",
       "  <tbody>\n",
       "    <tr>\n",
       "      <th>2018-01-31</th>\n",
       "      <td>135.050003</td>\n",
       "      <td>23.360001</td>\n",
       "      <td>26.860001</td>\n",
       "      <td>60.880001</td>\n",
       "      <td>17.440001</td>\n",
       "      <td>362.220001</td>\n",
       "      <td>45.400002</td>\n",
       "      <td>15.48</td>\n",
       "      <td>33.860001</td>\n",
       "      <td>672.390015</td>\n",
       "      <td>181.520004</td>\n",
       "      <td>194.589996</td>\n",
       "      <td>69.820000</td>\n",
       "      <td>16.870001</td>\n",
       "      <td>32.930000</td>\n",
       "      <td>119.580002</td>\n",
       "      <td>65.980003</td>\n",
       "      <td>222.300003</td>\n",
       "      <td>97.010002</td>\n",
       "      <td>34.950001</td>\n",
       "      <td>20.450001</td>\n",
       "      <td>29.770000</td>\n",
       "      <td>137.759995</td>\n",
       "      <td>85.160004</td>\n",
       "      <td>15.54</td>\n",
       "      <td>94.989998</td>\n",
       "      <td>52.750000</td>\n",
       "      <td>431.350006</td>\n",
       "      <td>190.779999</td>\n",
       "      <td>115.919998</td>\n",
       "      <td>77.019997</td>\n",
       "      <td>15.930000</td>\n",
       "      <td>46.639999</td>\n",
       "    </tr>\n",
       "    <tr>\n",
       "      <th>2018-02-28</th>\n",
       "      <td>130.839996</td>\n",
       "      <td>22.389999</td>\n",
       "      <td>24.420000</td>\n",
       "      <td>64.260002</td>\n",
       "      <td>17.340000</td>\n",
       "      <td>334.029999</td>\n",
       "      <td>44.110001</td>\n",
       "      <td>12.45</td>\n",
       "      <td>34.770000</td>\n",
       "      <td>554.770020</td>\n",
       "      <td>174.520004</td>\n",
       "      <td>182.119995</td>\n",
       "      <td>66.190002</td>\n",
       "      <td>15.400000</td>\n",
       "      <td>30.120001</td>\n",
       "      <td>113.160004</td>\n",
       "      <td>64.349998</td>\n",
       "      <td>218.199997</td>\n",
       "      <td>89.300003</td>\n",
       "      <td>34.349998</td>\n",
       "      <td>20.389999</td>\n",
       "      <td>27.610001</td>\n",
       "      <td>128.699997</td>\n",
       "      <td>83.440002</td>\n",
       "      <td>13.41</td>\n",
       "      <td>92.110001</td>\n",
       "      <td>52.840000</td>\n",
       "      <td>411.940002</td>\n",
       "      <td>192.380005</td>\n",
       "      <td>116.150002</td>\n",
       "      <td>64.510002</td>\n",
       "      <td>16.780001</td>\n",
       "      <td>44.000000</td>\n",
       "    </tr>\n",
       "    <tr>\n",
       "      <th>2018-03-28</th>\n",
       "      <td>125.709999</td>\n",
       "      <td>23.290001</td>\n",
       "      <td>25.260000</td>\n",
       "      <td>63.529999</td>\n",
       "      <td>17.250000</td>\n",
       "      <td>306.420013</td>\n",
       "      <td>39.779999</td>\n",
       "      <td>12.03</td>\n",
       "      <td>36.900002</td>\n",
       "      <td>510.079987</td>\n",
       "      <td>165.820007</td>\n",
       "      <td>179.630005</td>\n",
       "      <td>64.029999</td>\n",
       "      <td>13.260000</td>\n",
       "      <td>30.090000</td>\n",
       "      <td>111.129997</td>\n",
       "      <td>60.549999</td>\n",
       "      <td>208.570007</td>\n",
       "      <td>88.919998</td>\n",
       "      <td>34.040001</td>\n",
       "      <td>19.700001</td>\n",
       "      <td>24.730000</td>\n",
       "      <td>135.500000</td>\n",
       "      <td>83.970001</td>\n",
       "      <td>14.94</td>\n",
       "      <td>88.650002</td>\n",
       "      <td>55.639999</td>\n",
       "      <td>367.260010</td>\n",
       "      <td>180.740005</td>\n",
       "      <td>111.919998</td>\n",
       "      <td>57.830002</td>\n",
       "      <td>14.650000</td>\n",
       "      <td>46.259998</td>\n",
       "    </tr>\n",
       "    <tr>\n",
       "      <th>2018-04-30</th>\n",
       "      <td>129.259995</td>\n",
       "      <td>24.010000</td>\n",
       "      <td>26.809999</td>\n",
       "      <td>69.559998</td>\n",
       "      <td>17.309999</td>\n",
       "      <td>336.329987</td>\n",
       "      <td>43.529999</td>\n",
       "      <td>11.70</td>\n",
       "      <td>31.680000</td>\n",
       "      <td>510.010010</td>\n",
       "      <td>180.779999</td>\n",
       "      <td>194.539993</td>\n",
       "      <td>67.199997</td>\n",
       "      <td>14.950000</td>\n",
       "      <td>31.160000</td>\n",
       "      <td>117.019997</td>\n",
       "      <td>62.169998</td>\n",
       "      <td>228.429993</td>\n",
       "      <td>82.330002</td>\n",
       "      <td>33.939999</td>\n",
       "      <td>18.190001</td>\n",
       "      <td>23.920000</td>\n",
       "      <td>124.779999</td>\n",
       "      <td>86.000000</td>\n",
       "      <td>14.11</td>\n",
       "      <td>99.040001</td>\n",
       "      <td>58.419998</td>\n",
       "      <td>392.540009</td>\n",
       "      <td>191.639999</td>\n",
       "      <td>119.480003</td>\n",
       "      <td>67.120003</td>\n",
       "      <td>11.690000</td>\n",
       "      <td>51.970001</td>\n",
       "    </tr>\n",
       "    <tr>\n",
       "      <th>2018-05-31</th>\n",
       "      <td>119.680000</td>\n",
       "      <td>20.480000</td>\n",
       "      <td>29.750000</td>\n",
       "      <td>65.410004</td>\n",
       "      <td>15.500000</td>\n",
       "      <td>316.660004</td>\n",
       "      <td>38.060001</td>\n",
       "      <td>11.86</td>\n",
       "      <td>32.360001</td>\n",
       "      <td>509.899994</td>\n",
       "      <td>166.250000</td>\n",
       "      <td>169.940002</td>\n",
       "      <td>62.169998</td>\n",
       "      <td>15.070000</td>\n",
       "      <td>28.170000</td>\n",
       "      <td>106.199997</td>\n",
       "      <td>49.520000</td>\n",
       "      <td>209.149994</td>\n",
       "      <td>83.339996</td>\n",
       "      <td>33.189999</td>\n",
       "      <td>16.900000</td>\n",
       "      <td>21.730000</td>\n",
       "      <td>113.110001</td>\n",
       "      <td>85.000000</td>\n",
       "      <td>13.50</td>\n",
       "      <td>95.379997</td>\n",
       "      <td>56.189999</td>\n",
       "      <td>336.880005</td>\n",
       "      <td>179.300003</td>\n",
       "      <td>111.129997</td>\n",
       "      <td>66.599998</td>\n",
       "      <td>10.300000</td>\n",
       "      <td>50.060001</td>\n",
       "    </tr>\n",
       "  </tbody>\n",
       "</table>\n",
       "</div>"
      ],
      "text/plain": [
       "                 AC.MX   ALFAA.MX  ALPEKA.MX   ALSEA.MX    AMXL.MX    ASURB.MX  BIMBOA.MX  CEMEXCPO.MX  CUERVO.MX  ELEKTRA.MX  FEMSAUBD.MX     GAPB.MX  GCARSOA1.MX  GENTERA.MX  GFINBURO.MX  GFNORTEO.MX  GMEXICOB.MX   GRUMAB.MX  IENOVA.MX  KIMBERA.MX    LABB.MX   LALAB.MX  LIVEPOLC-1.MX  MEGACPO.MX  NEMAKA.MX    OMAB.MX   ORBIA.MX  PE&OLES.MX   PINFRA.MX       RA.MX  TLEVISACPO.MX  VOLARA.MX  WALMEX.MX\n",
       "Date                                                                                                                                                                                                                                                                                                                                                                                                                \n",
       "2018-01-31  135.050003  23.360001  26.860001  60.880001  17.440001  362.220001  45.400002        15.48  33.860001  672.390015   181.520004  194.589996    69.820000   16.870001    32.930000   119.580002    65.980003  222.300003  97.010002   34.950001  20.450001  29.770000     137.759995   85.160004      15.54  94.989998  52.750000  431.350006  190.779999  115.919998      77.019997  15.930000  46.639999\n",
       "2018-02-28  130.839996  22.389999  24.420000  64.260002  17.340000  334.029999  44.110001        12.45  34.770000  554.770020   174.520004  182.119995    66.190002   15.400000    30.120001   113.160004    64.349998  218.199997  89.300003   34.349998  20.389999  27.610001     128.699997   83.440002      13.41  92.110001  52.840000  411.940002  192.380005  116.150002      64.510002  16.780001  44.000000\n",
       "2018-03-28  125.709999  23.290001  25.260000  63.529999  17.250000  306.420013  39.779999        12.03  36.900002  510.079987   165.820007  179.630005    64.029999   13.260000    30.090000   111.129997    60.549999  208.570007  88.919998   34.040001  19.700001  24.730000     135.500000   83.970001      14.94  88.650002  55.639999  367.260010  180.740005  111.919998      57.830002  14.650000  46.259998\n",
       "2018-04-30  129.259995  24.010000  26.809999  69.559998  17.309999  336.329987  43.529999        11.70  31.680000  510.010010   180.779999  194.539993    67.199997   14.950000    31.160000   117.019997    62.169998  228.429993  82.330002   33.939999  18.190001  23.920000     124.779999   86.000000      14.11  99.040001  58.419998  392.540009  191.639999  119.480003      67.120003  11.690000  51.970001\n",
       "2018-05-31  119.680000  20.480000  29.750000  65.410004  15.500000  316.660004  38.060001        11.86  32.360001  509.899994   166.250000  169.940002    62.169998   15.070000    28.170000   106.199997    49.520000  209.149994  83.339996   33.189999  16.900000  21.730000     113.110001   85.000000      13.50  95.379997  56.189999  336.880005  179.300003  111.129997      66.599998  10.300000  50.060001"
      ]
     },
     "execution_count": 13,
     "metadata": {},
     "output_type": "execute_result"
    }
   ],
   "source": [
    "# Importarlos\n",
    "from main import ppr \n",
    "# Precios\n",
    "ppr.head(5)"
   ]
  },
  {
   "cell_type": "markdown",
   "metadata": {},
   "source": [
    "<br>"
   ]
  },
  {
   "cell_type": "markdown",
   "metadata": {},
   "source": [
    "# <font color= #6B6B6B> <font size = 6> 4. Procesos </font>"
   ]
  },
  {
   "cell_type": "markdown",
   "metadata": {},
   "source": [
    "<hr style=\"border:0.02in solid gray\"> </hr>"
   ]
  },
  {
   "cell_type": "markdown",
   "metadata": {},
   "source": [
    "# Paso 1: Datos"
   ]
  },
  {
   "cell_type": "markdown",
   "metadata": {},
   "source": [
    "##  1.1 Lista de archivos a importar\n",
    "### <font color= #6B6B6B> <font size = 3> Se crea una lista que contenga el nombre de todos los archivos que se necesitara importar desde la ruta seleccionada. </font>\n"
   ]
  },
  {
   "cell_type": "markdown",
   "metadata": {},
   "source": [
    "## 1.2 Leer archivos y ponerlos en diccionario\n",
    "### <font color= #6B6B6B> <font size = 3> Leer la lista de archivos y guardarlos en un diccionario para que sea sencillo llamarlos cuando sean requeridos  </font>"
   ]
  },
  {
   "cell_type": "markdown",
   "metadata": {},
   "source": [
    "## 1.3 Vector de fechas apartir de vector de nombres de archivos\n",
    "### <font color= #6B6B6B> <font size = 3> Se crea un vector con de fechas modificando los nombres de los archivos a formato de fechas para poder ser usado como indexador </font>"
   ]
  },
  {
   "cell_type": "markdown",
   "metadata": {},
   "source": [
    "## 1.4 Vector de Tickers apartir de YF\n",
    "### <font color= #6B6B6B> <font size = 3> Se compone un vector con los Ticker de los activos del diccionario de archivos anterior, para ser usado al extrar datos de YF </font>"
   ]
  },
  {
   "cell_type": "markdown",
   "metadata": {},
   "source": [
    "## 1.5 Descarga y orden de datos historicos\n",
    "### <font color= #6B6B6B> <font size = 3> Son importados los precios desde Yahoo! Finanzas con referencia al vector de fechas y tickes de punto 1.3 y 1.4 </font>"
   ]
  },
  {
   "cell_type": "markdown",
   "metadata": {},
   "source": [
    "## 1.6 Posicion inicial  \n",
    "### <font color= #6B6B6B> <font size = 3> Se establece la posicion inicial del capital   </font>"
   ]
  },
  {
   "cell_type": "markdown",
   "metadata": {},
   "source": [
    "## 1.7 Ordenar y eliminar elementos del Dataframe \n",
    "### <font color= #6B6B6B> <font size = 3> Se ordenan alfabeticamente los datos del primer archivo del diccionario del punto 1.2, sumado a esto se modifican nombres de la columna Tickers para empatarlos con los nombre del dataframe del punto 1.5 y se eliminan filas de activos que se tomaran como cash.  </font>"
   ]
  },
  {
   "cell_type": "markdown",
   "metadata": {},
   "source": [
    "## 1.8 Jalar precios para la posicion inicial \n",
    "### <font color= #6B6B6B> <font size = 3> Se jalan los precios en base a fechas mensuales del periodo delimitado para establecer la posicion inicial. </font>"
   ]
  },
  {
   "cell_type": "code",
   "execution_count": 14,
   "metadata": {},
   "outputs": [],
   "source": [
    "from main import dp"
   ]
  },
  {
   "cell_type": "code",
   "execution_count": 15,
   "metadata": {},
   "outputs": [
    {
     "data": {
      "text/html": [
       "<div>\n",
       "<style scoped>\n",
       "    .dataframe tbody tr th:only-of-type {\n",
       "        vertical-align: middle;\n",
       "    }\n",
       "\n",
       "    .dataframe tbody tr th {\n",
       "        vertical-align: top;\n",
       "    }\n",
       "\n",
       "    .dataframe thead th {\n",
       "        text-align: right;\n",
       "    }\n",
       "</style>\n",
       "<table border=\"1\" class=\"dataframe\">\n",
       "  <thead>\n",
       "    <tr style=\"text-align: right;\">\n",
       "      <th></th>\n",
       "      <th>Ticker</th>\n",
       "      <th>Nombre</th>\n",
       "      <th>Peso (%)</th>\n",
       "      <th>Precio</th>\n",
       "      <th>Capital</th>\n",
       "      <th>Titulos</th>\n",
       "    </tr>\n",
       "  </thead>\n",
       "  <tbody>\n",
       "    <tr>\n",
       "      <th>0</th>\n",
       "      <td>AC.MX</td>\n",
       "      <td>ARCA CONTINENTAL</td>\n",
       "      <td>0.0175</td>\n",
       "      <td>135.050003</td>\n",
       "      <td>17478.125</td>\n",
       "      <td>129.0</td>\n",
       "    </tr>\n",
       "    <tr>\n",
       "      <th>1</th>\n",
       "      <td>ALFAA.MX</td>\n",
       "      <td>ALFA A</td>\n",
       "      <td>0.0268</td>\n",
       "      <td>23.360001</td>\n",
       "      <td>26766.500</td>\n",
       "      <td>1146.0</td>\n",
       "    </tr>\n",
       "    <tr>\n",
       "      <th>2</th>\n",
       "      <td>ALPEKA.MX</td>\n",
       "      <td>ALPEK SA DE CV</td>\n",
       "      <td>0.0032</td>\n",
       "      <td>26.860001</td>\n",
       "      <td>3196.000</td>\n",
       "      <td>119.0</td>\n",
       "    </tr>\n",
       "    <tr>\n",
       "      <th>3</th>\n",
       "      <td>ALSEA.MX</td>\n",
       "      <td>ALSEA DE CV</td>\n",
       "      <td>0.0083</td>\n",
       "      <td>60.880001</td>\n",
       "      <td>8289.625</td>\n",
       "      <td>136.0</td>\n",
       "    </tr>\n",
       "    <tr>\n",
       "      <th>4</th>\n",
       "      <td>AMXL.MX</td>\n",
       "      <td>AMERICA MOVIL L</td>\n",
       "      <td>0.1331</td>\n",
       "      <td>17.440001</td>\n",
       "      <td>132933.625</td>\n",
       "      <td>7622.0</td>\n",
       "    </tr>\n",
       "  </tbody>\n",
       "</table>\n",
       "</div>"
      ],
      "text/plain": [
       "      Ticker            Nombre  Peso (%)      Precio     Capital  Titulos\n",
       "0      AC.MX  ARCA CONTINENTAL    0.0175  135.050003   17478.125    129.0\n",
       "1   ALFAA.MX            ALFA A    0.0268   23.360001   26766.500   1146.0\n",
       "2  ALPEKA.MX    ALPEK SA DE CV    0.0032   26.860001    3196.000    119.0\n",
       "3   ALSEA.MX       ALSEA DE CV    0.0083   60.880001    8289.625    136.0\n",
       "4    AMXL.MX   AMERICA MOVIL L    0.1331   17.440001  132933.625   7622.0"
      ]
     },
     "execution_count": 15,
     "metadata": {},
     "output_type": "execute_result"
    }
   ],
   "source": [
    "dp.head(5)"
   ]
  },
  {
   "cell_type": "markdown",
   "metadata": {},
   "source": [
    "## 1.9 Evolucion de la posicion (Inversion Pasiva)\n",
    "### <font color= #6B6B6B> <font size = 3> Se crea un DataFrame con el capital, rendimiento y rendimiento acumulado mensual de la inversion.  </font>"
   ]
  },
  {
   "cell_type": "code",
   "execution_count": 19,
   "metadata": {},
   "outputs": [
    {
     "ename": "ImportError",
     "evalue": "cannot import name 'df_pasiva' from 'main' (C:\\Users\\luzitaifi\\Documents\\Micro_Estructuras_Trading\\Lab_1\\myst_if708591_lab1\\main.py)",
     "output_type": "error",
     "traceback": [
      "\u001b[1;31m---------------------------------------------------------------------------\u001b[0m",
      "\u001b[1;31mImportError\u001b[0m                               Traceback (most recent call last)",
      "\u001b[1;32m<ipython-input-19-df7f7dd1ff9d>\u001b[0m in \u001b[0;36m<module>\u001b[1;34m\u001b[0m\n\u001b[1;32m----> 1\u001b[1;33m \u001b[1;32mfrom\u001b[0m \u001b[0mmain\u001b[0m \u001b[1;32mimport\u001b[0m \u001b[0mdf_pasiva\u001b[0m\u001b[1;33m\u001b[0m\u001b[1;33m\u001b[0m\u001b[0m\n\u001b[0m",
      "\u001b[1;31mImportError\u001b[0m: cannot import name 'df_pasiva' from 'main' (C:\\Users\\luzitaifi\\Documents\\Micro_Estructuras_Trading\\Lab_1\\myst_if708591_lab1\\main.py)"
     ]
    }
   ],
   "source": [
    "from main import df_pasiva"
   ]
  },
  {
   "cell_type": "markdown",
   "metadata": {},
   "source": [
    "## 1.10 Visualizacion de la evolucion del capital\n",
    "### <font color= #6B6B6B> <font size = 3> Grafico en el que se aprecia la evolución del valor del capital en el periodo de tiempo dado.  </font>"
   ]
  },
  {
   "cell_type": "code",
   "execution_count": null,
   "metadata": {},
   "outputs": [],
   "source": []
  },
  {
   "cell_type": "markdown",
   "metadata": {},
   "source": [
    "<br>"
   ]
  },
  {
   "cell_type": "markdown",
   "metadata": {},
   "source": [
    "# <font color= #6B6B6B> <font size = 6> 5. Conclusiones </font>"
   ]
  },
  {
   "cell_type": "markdown",
   "metadata": {},
   "source": [
    "<hr style=\"border:0.02in solid gray\"> </hr>"
   ]
  },
  {
   "cell_type": "markdown",
   "metadata": {},
   "source": [
    "### <font color= #6B6B6B> <font size = 3> Desafortunadamente no se llego al resultado esperado ni a la comparativa necesaria para el proposito del proyecto.   </font>"
   ]
  },
  {
   "cell_type": "code",
   "execution_count": 3,
   "metadata": {},
   "outputs": [],
   "source": [
    "# en esta seccion es opcional incluir algun codigo para mostrar\n",
    "# visualmente algun concepto o hallazgo relevante como conclusion"
   ]
  }
 ],
 "metadata": {
  "kernelspec": {
   "display_name": "Python 3",
   "language": "python",
   "name": "python3"
  },
  "language_info": {
   "codemirror_mode": {
    "name": "ipython",
    "version": 3
   },
   "file_extension": ".py",
   "mimetype": "text/x-python",
   "name": "python",
   "nbconvert_exporter": "python",
   "pygments_lexer": "ipython3",
   "version": "3.7.3"
  }
 },
 "nbformat": 4,
 "nbformat_minor": 1
}
